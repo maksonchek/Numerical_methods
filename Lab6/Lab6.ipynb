{
 "cells": [
  {
   "cell_type": "markdown",
   "metadata": {},
   "source": [
    "**1. Многочлен Ньютона для неравномерной сетки**"
   ]
  },
  {
   "cell_type": "code",
   "execution_count": 20,
   "metadata": {},
   "outputs": [],
   "source": [
    "X = [0 , 1, 2, 3]\n",
    "Y = [1, 3, 1 , 0]"
   ]
  },
  {
   "cell_type": "code",
   "execution_count": 21,
   "metadata": {},
   "outputs": [],
   "source": [
    "def split_diff(X, Y):\n",
    "    if len(X) == 2:\n",
    "        r = (Y[-1] - Y[0])/(X[-1] - X[0])\n",
    "        return r\n",
    "    elif len(X) > 2:\n",
    "        r = (split_diff(X[1:], Y[1:]) - split_diff(X[0:-1], Y[0:-1]))/(X[-1] - X[0])\n",
    "        return r"
   ]
  },
  {
   "cell_type": "code",
   "execution_count": 22,
   "metadata": {},
   "outputs": [],
   "source": [
    "def construct_polynom(X, Y, x):\n",
    "    res = Y[0]\n",
    "    mult = 1\n",
    "    for i in range(len(X)-1):\n",
    "        mult*=(x-X[i])\n",
    "        diff = split_diff(X[:i+2], Y[:i+2])\n",
    "        res += mult*diff\n",
    "    return res"
   ]
  },
  {
   "cell_type": "code",
   "execution_count": 23,
   "metadata": {},
   "outputs": [
    {
     "data": {
      "text/plain": [
       "2.1875"
      ]
     },
     "execution_count": 23,
     "metadata": {},
     "output_type": "execute_result"
    }
   ],
   "source": [
    "construct_polynom(X,Y, 1.5)"
   ]
  },
  {
   "cell_type": "code",
   "execution_count": 25,
   "metadata": {},
   "outputs": [
    {
     "data": {
      "text/plain": [
       "3.25"
      ]
     },
     "execution_count": 25,
     "metadata": {},
     "output_type": "execute_result"
    }
   ],
   "source": [
    "X1 = [0 , 1, 2, 3]\n",
    "Y1 = [1, 2, 4 , 1]\n",
    "construct_polynom(X1,Y1, 1.5)"
   ]
  },
  {
   "cell_type": "markdown",
   "metadata": {},
   "source": [
    "**2. Многочлен Ньютона для равномерной сетки**"
   ]
  },
  {
   "cell_type": "code",
   "execution_count": 3,
   "metadata": {},
   "outputs": [],
   "source": [
    "def factorial(n):\n",
    "    if n == 0:\n",
    "        return 1\n",
    "    else:\n",
    "        return n * factorial(n - 1)\n",
    "\n",
    "def newton_interpolation(x_values, y_values, x):\n",
    "    n = len(x_values) - 1\n",
    "    result = 0\n",
    "    for i in range(n+1):\n",
    "        if(i > 0):\n",
    "            term = pow((y_values[i] - y_values[i-1]), i+1)\n",
    "        else:\n",
    "            term = 1\n",
    "        for j in range(i):\n",
    "            term *= (x - x_values[j])\n",
    "            term /= factorial(j + 1) \n",
    "        result += term\n",
    "\n",
    "    return result"
   ]
  },
  {
   "cell_type": "code",
   "execution_count": 4,
   "metadata": {},
   "outputs": [
    {
     "data": {
      "text/plain": [
       "2.96875"
      ]
     },
     "execution_count": 4,
     "metadata": {},
     "output_type": "execute_result"
    }
   ],
   "source": [
    "X1 = [0 , 1, 2, 3]\n",
    "Y1 = [1, 2, 4 , 1]\n",
    "newton_interpolation(X1,Y1, 1.5)"
   ]
  }
 ],
 "metadata": {
  "kernelspec": {
   "display_name": "Python 3",
   "language": "python",
   "name": "python3"
  },
  "language_info": {
   "codemirror_mode": {
    "name": "ipython",
    "version": 3
   },
   "file_extension": ".py",
   "mimetype": "text/x-python",
   "name": "python",
   "nbconvert_exporter": "python",
   "pygments_lexer": "ipython3",
   "version": "3.10.2"
  }
 },
 "nbformat": 4,
 "nbformat_minor": 2
}
